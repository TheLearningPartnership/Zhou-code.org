{
 "cells": [
  {
   "cell_type": "code",
   "execution_count": 10,
   "metadata": {
    "tags": [
     "hide-input"
    ]
   },
   "outputs": [
    {
     "data": {
      "text/html": [
       "<style>\n",
       "        .bk-notebook-logo {\n",
       "            display: block;\n",
       "            width: 20px;\n",
       "            height: 20px;\n",
       "            background-image: url(data:image/png;base64,iVBORw0KGgoAAAANSUhEUgAAABQAAAAUCAYAAACNiR0NAAAABHNCSVQICAgIfAhkiAAAAAlwSFlzAAALEgAACxIB0t1+/AAAABx0RVh0U29mdHdhcmUAQWRvYmUgRmlyZXdvcmtzIENTNui8sowAAAOkSURBVDiNjZRtaJVlGMd/1/08zzln5zjP1LWcU9N0NkN8m2CYjpgQYQXqSs0I84OLIC0hkEKoPtiH3gmKoiJDU7QpLgoLjLIQCpEsNJ1vqUOdO7ppbuec5+V+rj4ctwzd8IIbbi6u+8f1539dt3A78eXC7QizUF7gyV1fD1Yqg4JWz84yffhm0qkFqBogB9rM8tZdtwVsPUhWhGcFJngGeWrPzHm5oaMmkfEg1usvLFyc8jLRqDOMru7AyC8saQr7GG7f5fvDeH7Ej8CM66nIF+8yngt6HWaKh7k49Soy9nXurCi1o3qUbS3zWfrYeQDTB/Qj6kX6Ybhw4B+bOYoLKCC9H3Nu/leUTZ1JdRWkkn2ldcCamzrcf47KKXdAJllSlxAOkRgyHsGC/zRday5Qld9DyoM4/q/rUoy/CXh3jzOu3bHUVZeU+DEn8FInkPBFlu3+nW3Nw0mk6vCDiWg8CeJaxEwuHS3+z5RgY+YBR6V1Z1nxSOfoaPa4LASWxxdNp+VWTk7+4vzaou8v8PN+xo+KY2xsw6une2frhw05CTYOmQvsEhjhWjn0bmXPjpE1+kplmmkP3suftwTubK9Vq22qKmrBhpY4jvd5afdRA3wGjFAgcnTK2s4hY0/GPNIb0nErGMCRxWOOX64Z8RAC4oCXdklmEvcL8o0BfkNK4lUg9HTl+oPlQxdNo3Mg4Nv175e/1LDGzZen30MEjRUtmXSfiTVu1kK8W4txyV6BMKlbgk3lMwYCiusNy9fVfvvwMxv8Ynl6vxoByANLTWplvuj/nF9m2+PDtt1eiHPBr1oIfhCChQMBw6Aw0UulqTKZdfVvfG7VcfIqLG9bcldL/+pdWTLxLUy8Qq38heUIjh4XlzZxzQm19lLFlr8vdQ97rjZVOLf8nclzckbcD4wxXMidpX30sFd37Fv/GtwwhzhxGVAprjbg0gCAEeIgwCZyTV2Z1REEW8O4py0wsjeloKoMr6iCY6dP92H6Vw/oTyICIthibxjm/DfN9lVz8IqtqKYLUXfoKVMVQVVJOElGjrnnUt9T9wbgp8AyYKaGlqingHZU/uG2NTZSVqwHQTWkx9hxjkpWDaCg6Ckj5qebgBVbT3V3NNXMSiWSDdGV3hrtzla7J+duwPOToIg42ChPQOQjspnSlp1V+Gjdged7+8UN5CRAV7a5EdFNwCjEaBR27b3W890TE7g24NAP/mMDXRWrGoFPQI9ls/MWO2dWFAar/xcOIImbbpA3zgAAAABJRU5ErkJggg==);\n",
       "        }\n",
       "    </style>\n",
       "    <div>\n",
       "        <a href=\"https://bokeh.org\" target=\"_blank\" class=\"bk-notebook-logo\"></a>\n",
       "        <span id=\"b459f57a-d9da-4af7-a705-9ba84e23763c\">Loading BokehJS ...</span>\n",
       "    </div>\n"
      ]
     },
     "metadata": {},
     "output_type": "display_data"
    },
    {
     "data": {
      "application/javascript": "(function(root) {\n  function now() {\n    return new Date();\n  }\n\n  const force = true;\n\n  if (typeof root._bokeh_onload_callbacks === \"undefined\" || force === true) {\n    root._bokeh_onload_callbacks = [];\n    root._bokeh_is_loading = undefined;\n  }\n\nconst JS_MIME_TYPE = 'application/javascript';\n  const HTML_MIME_TYPE = 'text/html';\n  const EXEC_MIME_TYPE = 'application/vnd.bokehjs_exec.v0+json';\n  const CLASS_NAME = 'output_bokeh rendered_html';\n\n  /**\n   * Render data to the DOM node\n   */\n  function render(props, node) {\n    const script = document.createElement(\"script\");\n    node.appendChild(script);\n  }\n\n  /**\n   * Handle when an output is cleared or removed\n   */\n  function handleClearOutput(event, handle) {\n    const cell = handle.cell;\n\n    const id = cell.output_area._bokeh_element_id;\n    const server_id = cell.output_area._bokeh_server_id;\n    // Clean up Bokeh references\n    if (id != null && id in Bokeh.index) {\n      Bokeh.index[id].model.document.clear();\n      delete Bokeh.index[id];\n    }\n\n    if (server_id !== undefined) {\n      // Clean up Bokeh references\n      const cmd_clean = \"from bokeh.io.state import curstate; print(curstate().uuid_to_server['\" + server_id + \"'].get_sessions()[0].document.roots[0]._id)\";\n      cell.notebook.kernel.execute(cmd_clean, {\n        iopub: {\n          output: function(msg) {\n            const id = msg.content.text.trim();\n            if (id in Bokeh.index) {\n              Bokeh.index[id].model.document.clear();\n              delete Bokeh.index[id];\n            }\n          }\n        }\n      });\n      // Destroy server and session\n      const cmd_destroy = \"import bokeh.io.notebook as ion; ion.destroy_server('\" + server_id + \"')\";\n      cell.notebook.kernel.execute(cmd_destroy);\n    }\n  }\n\n  /**\n   * Handle when a new output is added\n   */\n  function handleAddOutput(event, handle) {\n    const output_area = handle.output_area;\n    const output = handle.output;\n\n    // limit handleAddOutput to display_data with EXEC_MIME_TYPE content only\n    if ((output.output_type != \"display_data\") || (!Object.prototype.hasOwnProperty.call(output.data, EXEC_MIME_TYPE))) {\n      return\n    }\n\n    const toinsert = output_area.element.find(\".\" + CLASS_NAME.split(' ')[0]);\n\n    if (output.metadata[EXEC_MIME_TYPE][\"id\"] !== undefined) {\n      toinsert[toinsert.length - 1].firstChild.textContent = output.data[JS_MIME_TYPE];\n      // store reference to embed id on output_area\n      output_area._bokeh_element_id = output.metadata[EXEC_MIME_TYPE][\"id\"];\n    }\n    if (output.metadata[EXEC_MIME_TYPE][\"server_id\"] !== undefined) {\n      const bk_div = document.createElement(\"div\");\n      bk_div.innerHTML = output.data[HTML_MIME_TYPE];\n      const script_attrs = bk_div.children[0].attributes;\n      for (let i = 0; i < script_attrs.length; i++) {\n        toinsert[toinsert.length - 1].firstChild.setAttribute(script_attrs[i].name, script_attrs[i].value);\n        toinsert[toinsert.length - 1].firstChild.textContent = bk_div.children[0].textContent\n      }\n      // store reference to server id on output_area\n      output_area._bokeh_server_id = output.metadata[EXEC_MIME_TYPE][\"server_id\"];\n    }\n  }\n\n  function register_renderer(events, OutputArea) {\n\n    function append_mime(data, metadata, element) {\n      // create a DOM node to render to\n      const toinsert = this.create_output_subarea(\n        metadata,\n        CLASS_NAME,\n        EXEC_MIME_TYPE\n      );\n      this.keyboard_manager.register_events(toinsert);\n      // Render to node\n      const props = {data: data, metadata: metadata[EXEC_MIME_TYPE]};\n      render(props, toinsert[toinsert.length - 1]);\n      element.append(toinsert);\n      return toinsert\n    }\n\n    /* Handle when an output is cleared or removed */\n    events.on('clear_output.CodeCell', handleClearOutput);\n    events.on('delete.Cell', handleClearOutput);\n\n    /* Handle when a new output is added */\n    events.on('output_added.OutputArea', handleAddOutput);\n\n    /**\n     * Register the mime type and append_mime function with output_area\n     */\n    OutputArea.prototype.register_mime_type(EXEC_MIME_TYPE, append_mime, {\n      /* Is output safe? */\n      safe: true,\n      /* Index of renderer in `output_area.display_order` */\n      index: 0\n    });\n  }\n\n  // register the mime type if in Jupyter Notebook environment and previously unregistered\n  if (root.Jupyter !== undefined) {\n    const events = require('base/js/events');\n    const OutputArea = require('notebook/js/outputarea').OutputArea;\n\n    if (OutputArea.prototype.mime_types().indexOf(EXEC_MIME_TYPE) == -1) {\n      register_renderer(events, OutputArea);\n    }\n  }\n  if (typeof (root._bokeh_timeout) === \"undefined\" || force === true) {\n    root._bokeh_timeout = Date.now() + 5000;\n    root._bokeh_failed_load = false;\n  }\n\n  const NB_LOAD_WARNING = {'data': {'text/html':\n     \"<div style='background-color: #fdd'>\\n\"+\n     \"<p>\\n\"+\n     \"BokehJS does not appear to have successfully loaded. If loading BokehJS from CDN, this \\n\"+\n     \"may be due to a slow or bad network connection. Possible fixes:\\n\"+\n     \"</p>\\n\"+\n     \"<ul>\\n\"+\n     \"<li>re-rerun `output_notebook()` to attempt to load from CDN again, or</li>\\n\"+\n     \"<li>use INLINE resources instead, as so:</li>\\n\"+\n     \"</ul>\\n\"+\n     \"<code>\\n\"+\n     \"from bokeh.resources import INLINE\\n\"+\n     \"output_notebook(resources=INLINE)\\n\"+\n     \"</code>\\n\"+\n     \"</div>\"}};\n\n  function display_loaded() {\n    const el = document.getElementById(\"b459f57a-d9da-4af7-a705-9ba84e23763c\");\n    if (el != null) {\n      el.textContent = \"BokehJS is loading...\";\n    }\n    if (root.Bokeh !== undefined) {\n      if (el != null) {\n        el.textContent = \"BokehJS \" + root.Bokeh.version + \" successfully loaded.\";\n      }\n    } else if (Date.now() < root._bokeh_timeout) {\n      setTimeout(display_loaded, 100)\n    }\n  }\n\n  function run_callbacks() {\n    try {\n      root._bokeh_onload_callbacks.forEach(function(callback) {\n        if (callback != null)\n          callback();\n      });\n    } finally {\n      delete root._bokeh_onload_callbacks\n    }\n    console.debug(\"Bokeh: all callbacks have finished\");\n  }\n\n  function load_libs(css_urls, js_urls, callback) {\n    if (css_urls == null) css_urls = [];\n    if (js_urls == null) js_urls = [];\n\n    root._bokeh_onload_callbacks.push(callback);\n    if (root._bokeh_is_loading > 0) {\n      console.debug(\"Bokeh: BokehJS is being loaded, scheduling callback at\", now());\n      return null;\n    }\n    if (js_urls == null || js_urls.length === 0) {\n      run_callbacks();\n      return null;\n    }\n    console.debug(\"Bokeh: BokehJS not loaded, scheduling load and callback at\", now());\n    root._bokeh_is_loading = css_urls.length + js_urls.length;\n\n    function on_load() {\n      root._bokeh_is_loading--;\n      if (root._bokeh_is_loading === 0) {\n        console.debug(\"Bokeh: all BokehJS libraries/stylesheets loaded\");\n        run_callbacks()\n      }\n    }\n\n    function on_error(url) {\n      console.error(\"failed to load \" + url);\n    }\n\n    for (let i = 0; i < css_urls.length; i++) {\n      const url = css_urls[i];\n      const element = document.createElement(\"link\");\n      element.onload = on_load;\n      element.onerror = on_error.bind(null, url);\n      element.rel = \"stylesheet\";\n      element.type = \"text/css\";\n      element.href = url;\n      console.debug(\"Bokeh: injecting link tag for BokehJS stylesheet: \", url);\n      document.body.appendChild(element);\n    }\n\n    for (let i = 0; i < js_urls.length; i++) {\n      const url = js_urls[i];\n      const element = document.createElement('script');\n      element.onload = on_load;\n      element.onerror = on_error.bind(null, url);\n      element.async = false;\n      element.src = url;\n      console.debug(\"Bokeh: injecting script tag for BokehJS library: \", url);\n      document.head.appendChild(element);\n    }\n  };\n\n  function inject_raw_css(css) {\n    const element = document.createElement(\"style\");\n    element.appendChild(document.createTextNode(css));\n    document.body.appendChild(element);\n  }\n\n  const js_urls = [\"https://cdn.bokeh.org/bokeh/release/bokeh-3.2.0.min.js\", \"https://cdn.bokeh.org/bokeh/release/bokeh-gl-3.2.0.min.js\", \"https://cdn.bokeh.org/bokeh/release/bokeh-widgets-3.2.0.min.js\", \"https://cdn.bokeh.org/bokeh/release/bokeh-tables-3.2.0.min.js\", \"https://cdn.bokeh.org/bokeh/release/bokeh-mathjax-3.2.0.min.js\"];\n  const css_urls = [];\n\n  const inline_js = [    function(Bokeh) {\n      Bokeh.set_log_level(\"info\");\n    },\nfunction(Bokeh) {\n    }\n  ];\n\n  function run_inline_js() {\n    if (root.Bokeh !== undefined || force === true) {\n          for (let i = 0; i < inline_js.length; i++) {\n      inline_js[i].call(root, root.Bokeh);\n    }\nif (force === true) {\n        display_loaded();\n      }} else if (Date.now() < root._bokeh_timeout) {\n      setTimeout(run_inline_js, 100);\n    } else if (!root._bokeh_failed_load) {\n      console.log(\"Bokeh: BokehJS failed to load within specified timeout.\");\n      root._bokeh_failed_load = true;\n    } else if (force !== true) {\n      const cell = $(document.getElementById(\"b459f57a-d9da-4af7-a705-9ba84e23763c\")).parents('.cell').data().cell;\n      cell.output_area.append_execute_result(NB_LOAD_WARNING)\n    }\n  }\n\n  if (root._bokeh_is_loading === 0) {\n    console.debug(\"Bokeh: BokehJS loaded, going straight to plotting\");\n    run_inline_js();\n  } else {\n    load_libs(css_urls, js_urls, function() {\n      console.debug(\"Bokeh: BokehJS plotting callback run at\", now());\n      run_inline_js();\n    });\n  }\n}(window));",
      "application/vnd.bokehjs_load.v0+json": ""
     },
     "metadata": {},
     "output_type": "display_data"
    }
   ],
   "source": [
    "import pandas as pd\n",
    "import numpy as np\n",
    "from bokeh.io import output_notebook, show\n",
    "from bokeh.plotting import figure, show\n",
    "from bokeh.models import ColumnDataSource, HoverTool, LinearAxis, Range1d, Span, Label, LabelSet, FactorRange, ColorBar, LinearColorMapper, BasicTicker\n",
    "from bokeh.transform import dodge, factor_cmap\n",
    "from bokeh.layouts import gridplot, column\n",
    "from bokeh.palettes import Spectral8, Spectral6, Pastel1\n",
    "from bokeh.transform import cumsum\n",
    "output_notebook()\n",
    "\n",
    "data = pd.read_csv('/Users/rachel/Library/CloudStorage/Dropbox-TLPSummerInterns/TLP Summer Intern Folder/Zhou/CODE - MPS_data_july_2023/mps_assessments.tsv', sep='\\t', on_bad_lines='skip')"
   ]
  },
  {
   "cell_type": "markdown",
   "metadata": {},
   "source": [
    "# 4.3 Assessment Analysis"
   ]
  },
  {
   "cell_type": "code",
   "execution_count": 11,
   "metadata": {
    "tags": [
     "hide-input"
    ]
   },
   "outputs": [],
   "source": [
    "def calculate_correctness(df): \n",
    "    \n",
    "    df = df.dropna(subset=['answer_correct_flag'])\n",
    "    summary = df.groupby(['course_name', 'parent_level_type', 'child_level_type'])['answer_correct_flag'].value_counts().unstack().reset_index()\n",
    "    summary.columns = ['course_name', 'parent_level_type', 'child_level_type', 'N', 'Y']\n",
    "    summary['correctness_proportion'] = summary['Y'] / (summary['Y'] + summary['N'])\n",
    "    \n",
    "    # Calculate the overall average correctness proportion\n",
    "    overall_avg = summary['correctness_proportion'].mean()\n",
    "    \n",
    "    return summary, overall_avg\n",
    "\n",
    "summary_correctness, overall_avg = calculate_correctness(data)    "
   ]
  },
  {
   "cell_type": "markdown",
   "metadata": {},
   "source": [
    "## Assessment Performance \n",
    "\n",
    "The visualization illustrates the distribution of correct proportions for each of the three assessment types:\n",
    "\n",
    "- Multi: single-select multi choice\n",
    "- Multi2: choose-two multi-choice\n",
    "- Match: matching items\n",
    "\n",
    "The x-axis represents the proportion of correct answers, while the y-axis represents the number of students. Each bar represents a unique combination of course name and child assessment type, color-coded based on the child assessment type. The dashed red line indicates the overall average correctness proportion across all courses and assessment types."
   ]
  },
  {
   "cell_type": "code",
   "execution_count": 12,
   "metadata": {
    "tags": [
     "hide-input"
    ]
   },
   "outputs": [],
   "source": [
    "def plot_separate_bars(df, avg):\n",
    "\n",
    "    df = df.sort_values(by=['child_level_type', 'course_name'])\n",
    "\n",
    "    # Combine course_name, parent_level_type, and child_level_type into a single column\n",
    "    df['course_parent_child'] = list(zip(df.course_name, df.parent_level_type, df.child_level_type))\n",
    "\n",
    "    source = ColumnDataSource(df)\n",
    "\n",
    "    factors = sorted(df['course_parent_child'].unique(), key=lambda x: (x[0], x[1], x[2]))\n",
    "\n",
    "    p = figure(x_range=FactorRange(*factors), height=400, width=800, \n",
    "            title=\"Correctness by Course and Assessment Type\", toolbar_location=None)\n",
    "\n",
    "    p.vbar(x='course_parent_child', top='correctness_proportion', source=source, width=0.8, line_color=\"white\",\n",
    "        legend_field='child_level_type', fill_color=factor_cmap('child_level_type', palette=Spectral6, factors=df['child_level_type'].unique()))\n",
    "    \n",
    "    p.yaxis.axis_label = 'Correctness Proportion'\n",
    "\n",
    "    # Add a horizontal line for the average correctness proportion \n",
    "    mean_line = Span(location=avg, dimension='width', line_color='red', line_dash='dashed', line_width=2)\n",
    "    p.add_layout(mean_line)\n",
    "\n",
    "    hover = HoverTool()\n",
    "    hover.tooltips = [(\"Correctness Proportion\", \"@correctness_proportion\"), \n",
    "                    (\"Child Level Type\", \"@child_level_type\")]\n",
    "    p.add_tools(hover)\n",
    "\n",
    "    p.x_range.range_padding = 0.1\n",
    "    p.xgrid.grid_line_color = None\n",
    "    p.xaxis.major_label_orientation = 1.2\n",
    "    p.outline_line_color = None\n",
    "\n",
    "    p.legend.title = \"Assessment Type\"\n",
    "    p.add_layout(p.legend[0], 'right')\n",
    "    p.legend.click_policy = \"hide\"\n",
    "\n",
    "    show(p)\n"
   ]
  },
  {
   "cell_type": "code",
   "execution_count": 13,
   "metadata": {
    "tags": [
     "hide-input"
    ]
   },
   "outputs": [],
   "source": [
    "import matplotlib.pyplot as plt\n",
    "order = ['Optimal', 'Pass (Not Optimal)', 'Failed', 'Special']\n",
    "\n",
    "# Categorizing the test results based on the provided breakdown\n",
    "def categorize_test_result(result):\n",
    "    if result < 20 and result != -1:\n",
    "        return 'Failed'\n",
    "    elif 20 <= result < 30:\n",
    "        return 'Pass (Not Optimal)'\n",
    "    elif 30 <= result < 1000:\n",
    "        return 'Optimal'\n",
    "    else:\n",
    "        return 'Special'\n",
    "\n",
    "\n",
    "def plot_test_results_updated(data):\n",
    "    data['test_result_category'] = data['best_result'].apply(categorize_test_result)\n",
    "\n",
    "    test_result_counts = data['test_result_category'].value_counts()\n",
    "    test_result_counts = test_result_counts[order]\n",
    "\n",
    "    total_count = test_result_counts.sum()\n",
    "    labels = [f\"{label}\\n{count} entries ({count/total_count:.1%})\" for label, count in zip(test_result_counts.index, test_result_counts)]\n",
    "    \n",
    "    colors = Spectral8[1:len(test_result_counts)+1]\n",
    "    explode = [0, 0, 0, 0.05]\n",
    "\n",
    "    plt.figure(figsize=(8, 5))\n",
    "    wedges, texts = plt.pie(test_result_counts, \n",
    "                            labels=labels, \n",
    "                            startangle=140,\n",
    "                            colors=colors,\n",
    "                            wedgeprops=dict(width=0.25),\n",
    "                            textprops=dict(color=\"black\"),\n",
    "                            explode= explode\n",
    "                            )\n",
    "\n",
    "    plt.setp(texts, size=7)\n",
    "\n",
    "    # Adding a legend\n",
    "    plt.legend(wedges, test_result_counts.index,\n",
    "              title=\"Test Results\",\n",
    "              loc=\"center left\",\n",
    "              bbox_to_anchor=(1, 0, 0.5, 1),fontsize=8)\n",
    "\n",
    "    plt.title('Distribution of Test Results', fontsize=14)\n",
    "    plt.tight_layout()\n",
    "    plt.show()\n"
   ]
  },
  {
   "cell_type": "code",
   "execution_count": 14,
   "metadata": {},
   "outputs": [
    {
     "data": {
      "text/html": [
       "\n",
       "  <div id=\"e425c461-c7bb-4f7d-8a4a-f109bf2a2a55\" data-root-id=\"p3973\" style=\"display: contents;\"></div>\n"
      ]
     },
     "metadata": {},
     "output_type": "display_data"
    },
    {
     "data": {
      "application/javascript": "(function(root) {\n  function embed_document(root) {\n  const docs_json = {\"54420cc2-4e53-482b-add0-cae2747e3fdd\":{\"version\":\"3.2.0\",\"title\":\"Bokeh Application\",\"roots\":[{\"type\":\"object\",\"name\":\"Figure\",\"id\":\"p3973\",\"attributes\":{\"width\":800,\"height\":400,\"x_range\":{\"type\":\"object\",\"name\":\"FactorRange\",\"id\":\"p3972\",\"attributes\":{\"factors\":[[\"csd\",\"Applab\",\"Multi\"],[\"csd\",\"BubbleChoice\",\"Match\"],[\"csd\",\"Gamelab\",\"Multi\"],[\"csd\",\"LevelGroup\",\"Match\"],[\"csd\",\"LevelGroup\",\"Multi\"],[\"csd\",\"LevelGroup\",\"Multi2\"],[\"csp\",\"LevelGroup\",\"Match\"],[\"csp\",\"LevelGroup\",\"Multi\"],[\"csp\",\"LevelGroup\",\"Multi2\"]],\"range_padding\":0.1}},\"y_range\":{\"type\":\"object\",\"name\":\"DataRange1d\",\"id\":\"p3975\"},\"x_scale\":{\"type\":\"object\",\"name\":\"CategoricalScale\",\"id\":\"p3983\"},\"y_scale\":{\"type\":\"object\",\"name\":\"LinearScale\",\"id\":\"p3984\"},\"title\":{\"type\":\"object\",\"name\":\"Title\",\"id\":\"p3976\",\"attributes\":{\"text\":\"Correctness by Course and Assessment Type\"}},\"outline_line_color\":null,\"renderers\":[{\"type\":\"object\",\"name\":\"GlyphRenderer\",\"id\":\"p4009\",\"attributes\":{\"data_source\":{\"type\":\"object\",\"name\":\"ColumnDataSource\",\"id\":\"p3969\",\"attributes\":{\"selected\":{\"type\":\"object\",\"name\":\"Selection\",\"id\":\"p3970\",\"attributes\":{\"indices\":[],\"line_indices\":[]}},\"selection_policy\":{\"type\":\"object\",\"name\":\"UnionRenderers\",\"id\":\"p3971\"},\"data\":{\"type\":\"map\",\"entries\":[[\"index\",{\"type\":\"ndarray\",\"array\":{\"type\":\"bytes\",\"data\":\"AQAAAAMAAAAGAAAAAAAAAAIAAAAEAAAABwAAAAUAAAAIAAAA\"},\"shape\":[9],\"dtype\":\"int32\",\"order\":\"little\"}],[\"course_name\",{\"type\":\"ndarray\",\"array\":[\"csd\",\"csd\",\"csp\",\"csd\",\"csd\",\"csd\",\"csp\",\"csd\",\"csp\"],\"shape\":[9],\"dtype\":\"object\",\"order\":\"little\"}],[\"parent_level_type\",{\"type\":\"ndarray\",\"array\":[\"BubbleChoice\",\"LevelGroup\",\"LevelGroup\",\"Applab\",\"Gamelab\",\"LevelGroup\",\"LevelGroup\",\"LevelGroup\",\"LevelGroup\"],\"shape\":[9],\"dtype\":\"object\",\"order\":\"little\"}],[\"child_level_type\",{\"type\":\"ndarray\",\"array\":[\"Match\",\"Match\",\"Match\",\"Multi\",\"Multi\",\"Multi\",\"Multi\",\"Multi2\",\"Multi2\"],\"shape\":[9],\"dtype\":\"object\",\"order\":\"little\"}],[\"N\",{\"type\":\"ndarray\",\"array\":{\"type\":\"bytes\",\"data\":\"GQAAAPEAAAANAAAAJgAAAA4HAAC/AAAAaQIAAIgBAAAUAAAA\"},\"shape\":[9],\"dtype\":\"int32\",\"order\":\"little\"}],[\"Y\",{\"type\":\"ndarray\",\"array\":{\"type\":\"bytes\",\"data\":\"4QAAACgAAAAMAAAAFQAAAOEDAABxAAAAwgEAABgAAAAGAAAA\"},\"shape\":[9],\"dtype\":\"int32\",\"order\":\"little\"}],[\"correctness_proportion\",{\"type\":\"ndarray\",\"array\":{\"type\":\"bytes\",\"data\":\"zczMzMzM7D/xuH3mezjCP7gehetRuN4/QcNJ3ZfH1j/fcQ1ji7TWP6K8hvIaytc/4YV2Ntf92j+e2Imd2ImtP57YiZ3Yic0/\"},\"shape\":[9],\"dtype\":\"float64\",\"order\":\"little\"}],[\"course_parent_child\",{\"type\":\"ndarray\",\"array\":[[\"csd\",\"BubbleChoice\",\"Match\"],[\"csd\",\"LevelGroup\",\"Match\"],[\"csp\",\"LevelGroup\",\"Match\"],[\"csd\",\"Applab\",\"Multi\"],[\"csd\",\"Gamelab\",\"Multi\"],[\"csd\",\"LevelGroup\",\"Multi\"],[\"csp\",\"LevelGroup\",\"Multi\"],[\"csd\",\"LevelGroup\",\"Multi2\"],[\"csp\",\"LevelGroup\",\"Multi2\"]],\"shape\":[9],\"dtype\":\"object\",\"order\":\"little\"}]]}}},\"view\":{\"type\":\"object\",\"name\":\"CDSView\",\"id\":\"p4010\",\"attributes\":{\"filter\":{\"type\":\"object\",\"name\":\"AllIndices\",\"id\":\"p4011\"}}},\"glyph\":{\"type\":\"object\",\"name\":\"VBar\",\"id\":\"p4006\",\"attributes\":{\"x\":{\"type\":\"field\",\"field\":\"course_parent_child\"},\"width\":{\"type\":\"value\",\"value\":0.8},\"top\":{\"type\":\"field\",\"field\":\"correctness_proportion\"},\"line_color\":{\"type\":\"value\",\"value\":\"white\"},\"fill_color\":{\"type\":\"field\",\"field\":\"child_level_type\",\"transform\":{\"type\":\"object\",\"name\":\"CategoricalColorMapper\",\"id\":\"p4002\",\"attributes\":{\"palette\":[\"#3288bd\",\"#99d594\",\"#e6f598\",\"#fee08b\",\"#fc8d59\",\"#d53e4f\"],\"factors\":{\"type\":\"ndarray\",\"array\":[\"Match\",\"Multi\",\"Multi2\"],\"shape\":[3],\"dtype\":\"object\",\"order\":\"little\"}}}}}},\"nonselection_glyph\":{\"type\":\"object\",\"name\":\"VBar\",\"id\":\"p4007\",\"attributes\":{\"x\":{\"type\":\"field\",\"field\":\"course_parent_child\"},\"width\":{\"type\":\"value\",\"value\":0.8},\"top\":{\"type\":\"field\",\"field\":\"correctness_proportion\"},\"line_color\":{\"type\":\"value\",\"value\":\"white\"},\"line_alpha\":{\"type\":\"value\",\"value\":0.1},\"fill_color\":{\"type\":\"field\",\"field\":\"child_level_type\",\"transform\":{\"id\":\"p4002\"}},\"fill_alpha\":{\"type\":\"value\",\"value\":0.1},\"hatch_alpha\":{\"type\":\"value\",\"value\":0.1}}},\"muted_glyph\":{\"type\":\"object\",\"name\":\"VBar\",\"id\":\"p4008\",\"attributes\":{\"x\":{\"type\":\"field\",\"field\":\"course_parent_child\"},\"width\":{\"type\":\"value\",\"value\":0.8},\"top\":{\"type\":\"field\",\"field\":\"correctness_proportion\"},\"line_color\":{\"type\":\"value\",\"value\":\"white\"},\"line_alpha\":{\"type\":\"value\",\"value\":0.2},\"fill_color\":{\"type\":\"field\",\"field\":\"child_level_type\",\"transform\":{\"id\":\"p4002\"}},\"fill_alpha\":{\"type\":\"value\",\"value\":0.2},\"hatch_alpha\":{\"type\":\"value\",\"value\":0.2}}}}}],\"toolbar\":{\"type\":\"object\",\"name\":\"Toolbar\",\"id\":\"p3982\",\"attributes\":{\"tools\":[{\"type\":\"object\",\"name\":\"PanTool\",\"id\":\"p3995\"},{\"type\":\"object\",\"name\":\"WheelZoomTool\",\"id\":\"p3996\"},{\"type\":\"object\",\"name\":\"BoxZoomTool\",\"id\":\"p3997\",\"attributes\":{\"overlay\":{\"type\":\"object\",\"name\":\"BoxAnnotation\",\"id\":\"p3998\",\"attributes\":{\"syncable\":false,\"level\":\"overlay\",\"visible\":false,\"left_units\":\"canvas\",\"right_units\":\"canvas\",\"bottom_units\":\"canvas\",\"top_units\":\"canvas\",\"line_color\":\"black\",\"line_alpha\":1.0,\"line_width\":2,\"line_dash\":[4,4],\"fill_color\":\"lightgrey\",\"fill_alpha\":0.5}}}},{\"type\":\"object\",\"name\":\"SaveTool\",\"id\":\"p3999\"},{\"type\":\"object\",\"name\":\"ResetTool\",\"id\":\"p4000\"},{\"type\":\"object\",\"name\":\"HelpTool\",\"id\":\"p4001\"},{\"type\":\"object\",\"name\":\"HoverTool\",\"id\":\"p4015\",\"attributes\":{\"renderers\":\"auto\",\"tooltips\":[[\"Correctness Proportion\",\"@correctness_proportion\"],[\"Child Level Type\",\"@child_level_type\"]]}}]}},\"toolbar_location\":null,\"left\":[{\"type\":\"object\",\"name\":\"LinearAxis\",\"id\":\"p3990\",\"attributes\":{\"ticker\":{\"type\":\"object\",\"name\":\"BasicTicker\",\"id\":\"p3991\",\"attributes\":{\"mantissas\":[1,2,5]}},\"formatter\":{\"type\":\"object\",\"name\":\"BasicTickFormatter\",\"id\":\"p3992\"},\"axis_label\":\"Correctness Proportion\",\"major_label_policy\":{\"type\":\"object\",\"name\":\"AllLabels\",\"id\":\"p3993\"}}}],\"right\":[{\"type\":\"object\",\"name\":\"Legend\",\"id\":\"p4012\",\"attributes\":{\"title\":\"Assessment Type\",\"click_policy\":\"hide\",\"items\":[{\"type\":\"object\",\"name\":\"LegendItem\",\"id\":\"p4013\",\"attributes\":{\"label\":{\"type\":\"field\",\"field\":\"child_level_type\"},\"renderers\":[{\"id\":\"p4009\"}]}}]}}],\"below\":[{\"type\":\"object\",\"name\":\"CategoricalAxis\",\"id\":\"p3985\",\"attributes\":{\"ticker\":{\"type\":\"object\",\"name\":\"CategoricalTicker\",\"id\":\"p3986\"},\"formatter\":{\"type\":\"object\",\"name\":\"CategoricalTickFormatter\",\"id\":\"p3987\"},\"major_label_orientation\":1.2,\"major_label_policy\":{\"type\":\"object\",\"name\":\"AllLabels\",\"id\":\"p3988\"}}}],\"center\":[{\"type\":\"object\",\"name\":\"Grid\",\"id\":\"p3989\",\"attributes\":{\"axis\":{\"id\":\"p3985\"},\"grid_line_color\":null}},{\"type\":\"object\",\"name\":\"Grid\",\"id\":\"p3994\",\"attributes\":{\"dimension\":1,\"axis\":{\"id\":\"p3990\"}}},{\"id\":\"p4012\"},{\"type\":\"object\",\"name\":\"Span\",\"id\":\"p4014\",\"attributes\":{\"location\":0.3683295320468065,\"line_color\":\"red\",\"line_width\":2,\"line_dash\":[6]}}]}}]}};\n  const render_items = [{\"docid\":\"54420cc2-4e53-482b-add0-cae2747e3fdd\",\"roots\":{\"p3973\":\"e425c461-c7bb-4f7d-8a4a-f109bf2a2a55\"},\"root_ids\":[\"p3973\"]}];\n  root.Bokeh.embed.embed_items_notebook(docs_json, render_items);\n  }\n  if (root.Bokeh !== undefined) {\n    embed_document(root);\n  } else {\n    let attempts = 0;\n    const timer = setInterval(function(root) {\n      if (root.Bokeh !== undefined) {\n        clearInterval(timer);\n        embed_document(root);\n      } else {\n        attempts++;\n        if (attempts > 100) {\n          clearInterval(timer);\n          console.log(\"Bokeh: ERROR: Unable to run BokehJS code because BokehJS library is missing\");\n        }\n      }\n    }, 10, root)\n  }\n})(window);",
      "application/vnd.bokehjs_exec.v0+json": ""
     },
     "metadata": {
      "application/vnd.bokehjs_exec.v0+json": {
       "id": "p3973"
      }
     },
     "output_type": "display_data"
    }
   ],
   "source": [
    "plot_separate_bars(summary_correctness, overall_avg)"
   ]
  },
  {
   "cell_type": "markdown",
   "metadata": {},
   "source": [
    "`````{admonition} Insights\n",
    ":class: tip\n",
    "**Diversity in Assessment Types**: Across all courses, Match assessments generally have higher or comparable correctness proportions to the other types. This might indicate that students find these assessments easier or more intuitive.\n",
    "\n",
    "**Difficulty in Solving Choose-two Multi-choice**\n",
    "Multi2 assessments consistently present a challenge, with correctness proportions often lower than the other types. This could be because students have to discern two correct answers, increasing the cognitive load and the chances of partial correctness (getting one answer right but not the other).\n",
    "`````\n",
    "\n",
    "**Rethinking Multi2 Assessments**: Given the consistently lower correctness proportions for Multi2 across courses, educators might consider revisiting the design, frequency, or teaching approach for these assessments. Are they too challenging? Are students adequately prepared for them? Or is their format not conducive to the learning objectives of the course?\n",
    "\n",
    "**Leveraging Multi Assessments**: The relatively consistent correctness proportions for Match assessments across courses suggest they are an effective assessment tool. They might be offering students a more engaging or intuitive way to demonstrate understanding. Teachers could consider using them more frequently or in critical areas of the curriculum.\n",
    "\n",
    "**Tailored Interventions**: Recognizing these patterns can help educators tailor interventions. For instance, additional resources or practice exercises can be provided specifically for Multi2 type questions, especially in the \"CS Discoveries (6-10)\" LevelGroup Units.\n",
    "\n",
    "**Feedback Loop**: It would be beneficial to gather feedback from students about their experience with these assessment types. Understanding students' perspectives can offer insights into whether the questions were confusing, the content was not well-understood, or if the format of the questions (especially Multi2) was challenging.\n",
    "\n",
    "In conclusion, the visualization offers a detailed look into student performance across different courses and assessment types. The insights drawn can guide curriculum designers, educators, and e-learning platforms in optimizing assessments for better learning outcomes."
   ]
  },
  {
   "cell_type": "markdown",
   "metadata": {},
   "source": [
    "## Assessment Consistency\n",
    "\n",
    "The heatmap showcases the correctness proportions for various assessment types across different school years. Each cell's color intensity represents the proportion of correct answers, with darker shades indicating lower correctness."
   ]
  },
  {
   "cell_type": "code",
   "execution_count": 26,
   "metadata": {
    "tags": [
     "hide-input"
    ]
   },
   "outputs": [],
   "source": [
    "# Extract school year from script_name and convert answer_correct_flag to numeric\n",
    "assess_data = data.copy()\n",
    "assess_data['school_year'] = assess_data['script_name'].str[-4:]\n",
    "assess_data['correct_flag_numeric'] = assess_data['answer_correct_flag'].map({'Y': 1, 'N': 0})\n",
    "\n",
    "# Modify the parent_level_name to remove the last five characters and group by school_year and modified parent_level_name\n",
    "assess_data['parent_level_name_modified'] = assess_data['parent_level_name'].str[:-5]\n",
    "summary_correctness = assess_data.groupby(['school_year', 'parent_level_name_modified'])['correct_flag_numeric'].mean().reset_index()\n",
    "summary_correctness.columns = ['course_year', 'parent_level_name', 'correctness_proportion']\n",
    "\n",
    "# Compute average correctness proportion for each parent_level_name\n",
    "avg_correctness = summary_correctness.groupby('parent_level_name')['correctness_proportion'].mean().sort_values()\n",
    "\n",
    "# Filter out assessments with data for only one year\n",
    "assessment_counts = summary_correctness['parent_level_name'].value_counts()\n",
    "multi_year_assessments = assessment_counts[assessment_counts > 1].index\n",
    "\n",
    "# Reorder the rows in summary_correctness based on sorted order of avg_correctness\n",
    "summary_correctness['parent_level_name'] = pd.Categorical(summary_correctness['parent_level_name'], categories=avg_correctness.index, ordered=True)\n",
    "filtered_summary = summary_correctness[summary_correctness['parent_level_name'].isin(multi_year_assessments)]\n",
    "\n",
    "# Function to create heatmap\n",
    "def create_heatmap(df):\n",
    "    df = df.reset_index()\n",
    "    color_mapper = LinearColorMapper(palette=\"Viridis256\", low=df['correctness_proportion'].min(), high=df['correctness_proportion'].max())\n",
    "    p = figure(x_range=list(map(str, df['course_year'].unique())), \n",
    "               y_range=sorted(list(map(str, df['parent_level_name'].unique())),reverse = True),\n",
    "               x_axis_location=\"above\", width=800, height=400, tools=\"hover\", toolbar_location=None, \n",
    "               tooltips=[('Year', '@course_year'), ('Assignment', '@parent_level_name'), ('Correctness Proportion', '@correctness_proportion')])\n",
    "    p.rect(x=\"course_year\", y=\"parent_level_name\", width=1, height=1, source=df, fill_color={'field': 'correctness_proportion', 'transform': color_mapper}, line_color=None)\n",
    "    color_bar = ColorBar(color_mapper=color_mapper, location=(0, 0), ticker=BasicTicker())\n",
    "    p.add_layout(color_bar, 'right')\n",
    "    show(p)"
   ]
  },
  {
   "cell_type": "code",
   "execution_count": 27,
   "metadata": {},
   "outputs": [
    {
     "data": {
      "text/html": [
       "\n",
       "  <div id=\"f326411b-6921-4608-8e32-b39fe2682ce5\" data-root-id=\"p4634\" style=\"display: contents;\"></div>\n"
      ]
     },
     "metadata": {},
     "output_type": "display_data"
    },
    {
     "data": {
      "application/javascript": "(function(root) {\n  function embed_document(root) {\n  const docs_json = {\"87dae177-d483-4f53-9fb2-c8cdb2960fa4\":{\"version\":\"3.2.0\",\"title\":\"Bokeh Application\",\"roots\":[{\"type\":\"object\",\"name\":\"Figure\",\"id\":\"p4634\",\"attributes\":{\"width\":800,\"height\":400,\"x_range\":{\"type\":\"object\",\"name\":\"FactorRange\",\"id\":\"p4643\",\"attributes\":{\"factors\":[\"2018\",\"2019\",\"2020\",\"2021\",\"2022\"]}},\"y_range\":{\"type\":\"object\",\"name\":\"FactorRange\",\"id\":\"p4644\",\"attributes\":{\"factors\":[\"CSD Web Development Post-Project Test_pilot\",\"CSD U6 setProperty predict app\",\"CSD U3 Sprites intro predict\",\"CSD U3 Sprite Movement Predict\",\"CSD U3 Functions Prediction Order of Create\",\"CSD U3 Boolean Predict\",\"CSD U2 Image practice_pilot\",\"CSD U1 Test\",\"CSD Games properties predict\"]}},\"x_scale\":{\"type\":\"object\",\"name\":\"CategoricalScale\",\"id\":\"p4645\"},\"y_scale\":{\"type\":\"object\",\"name\":\"CategoricalScale\",\"id\":\"p4646\"},\"title\":{\"type\":\"object\",\"name\":\"Title\",\"id\":\"p4641\"},\"renderers\":[{\"type\":\"object\",\"name\":\"GlyphRenderer\",\"id\":\"p4667\",\"attributes\":{\"data_source\":{\"type\":\"object\",\"name\":\"ColumnDataSource\",\"id\":\"p4658\",\"attributes\":{\"selected\":{\"type\":\"object\",\"name\":\"Selection\",\"id\":\"p4659\",\"attributes\":{\"indices\":[],\"line_indices\":[]}},\"selection_policy\":{\"type\":\"object\",\"name\":\"UnionRenderers\",\"id\":\"p4660\"},\"data\":{\"type\":\"map\",\"entries\":[[\"level_0\",{\"type\":\"ndarray\",\"array\":{\"type\":\"bytes\",\"data\":\"AAAAAAEAAAACAAAAAwAAAAQAAAAFAAAABgAAAAcAAAAIAAAACQAAAAoAAAALAAAADAAAAA0AAAAOAAAADwAAABAAAAARAAAAEgAAABMAAAAUAAAAFQAAABYAAAAXAAAAGAAAABkAAAAaAAAAGwAAABwAAAAdAAAAHgAAAB8AAAA=\"},\"shape\":[32],\"dtype\":\"int32\",\"order\":\"little\"}],[\"index\",{\"type\":\"ndarray\",\"array\":{\"type\":\"bytes\",\"data\":\"BAAAAAUAAAAGAAAABwAAAAgAAAAKAAAACwAAAAwAAAANAAAADgAAABMAAAAUAAAAFQAAABYAAAAXAAAAGAAAABoAAAAbAAAAIAAAACEAAAAiAAAAIwAAACQAAAAlAAAAJgAAACcAAAAoAAAAKQAAACoAAAArAAAALAAAAC0AAAA=\"},\"shape\":[32],\"dtype\":\"int32\",\"order\":\"little\"}],[\"course_year\",{\"type\":\"ndarray\",\"array\":[\"2018\",\"2018\",\"2018\",\"2018\",\"2018\",\"2019\",\"2019\",\"2019\",\"2019\",\"2019\",\"2020\",\"2020\",\"2020\",\"2020\",\"2020\",\"2020\",\"2020\",\"2020\",\"2021\",\"2021\",\"2021\",\"2021\",\"2021\",\"2021\",\"2021\",\"2021\",\"2022\",\"2022\",\"2022\",\"2022\",\"2022\",\"2022\"],\"shape\":[32],\"dtype\":\"object\",\"order\":\"little\"}],[\"parent_level_name\",{\"type\":\"ndarray\",\"array\":[\"CSD U3 Boolean Predict\",\"CSD U3 Functions Prediction Order of Create\",\"CSD U3 Sprite Movement Predict\",\"CSD U3 Sprites intro predict\",\"CSD U6 setProperty predict app\",\"CSD U3 Boolean Predict\",\"CSD U3 Functions Prediction Order of Create\",\"CSD U3 Sprite Movement Predict\",\"CSD U3 Sprites intro predict\",\"CSD U6 setProperty predict app\",\"CSD Games properties predict\",\"CSD U1 Test\",\"CSD U2 Image practice_pilot\",\"CSD U3 Boolean Predict\",\"CSD U3 Functions Prediction Order of Create\",\"CSD U3 Sprite Movement Predict\",\"CSD U6 setProperty predict app\",\"CSD Web Development Post-Project Test_pilot\",\"CSD Games properties predict\",\"CSD U1 Test\",\"CSD U2 Image practice_pilot\",\"CSD U3 Boolean Predict\",\"CSD U3 Functions Prediction Order of Create\",\"CSD U3 Sprite Movement Predict\",\"CSD U6 setProperty predict app\",\"CSD Web Development Post-Project Test_pilot\",\"CSD Games properties predict\",\"CSD U1 Test\",\"CSD U2 Image practice_pilot\",\"CSD U3 Boolean Predict\",\"CSD U3 Functions Prediction Order of Create\",\"CSD U3 Sprite Movement Predict\"],\"shape\":[32],\"dtype\":\"object\",\"order\":\"little\"}],[\"correctness_proportion\",{\"type\":\"ndarray\",\"array\":{\"type\":\"bytes\",\"data\":\"zz/hx+z80z93xB1xR9zRP+iWOPV7btk/CwGjVJPHzT8AAAAAAAAAAHpqYaWnFtY/AAAAAAAA0D+EOqiDOqjTP18qaPWlgtY/AAAAAAAAAAAcx3Ecx3HcP2WTTTbZZMM/hetRuB6F6z8fwX0E9xHcP57YiZ3Yic0/q6qqqqqq4D/btm3btm3bP4KaCtGGz88/y0PBldye3z94EatE3nfBPyTm7QyJees/flzYx4V93D8xDMMwDMPgP0+n0+l0Ot0/27Zt27Zt2z8cx3Ecx3G8PzmO4ziO49g/fzjg8YcDvj9g0ql5kLvuPyVJkiRJktw/GIZhGIZh2D8mtJfQXkLbPw==\"},\"shape\":[32],\"dtype\":\"float64\",\"order\":\"little\"}]]}}},\"view\":{\"type\":\"object\",\"name\":\"CDSView\",\"id\":\"p4668\",\"attributes\":{\"filter\":{\"type\":\"object\",\"name\":\"AllIndices\",\"id\":\"p4669\"}}},\"glyph\":{\"type\":\"object\",\"name\":\"Rect\",\"id\":\"p4664\",\"attributes\":{\"x\":{\"type\":\"field\",\"field\":\"course_year\"},\"y\":{\"type\":\"field\",\"field\":\"parent_level_name\"},\"width\":{\"type\":\"value\",\"value\":1},\"height\":{\"type\":\"value\",\"value\":1},\"line_color\":{\"type\":\"value\",\"value\":null},\"fill_color\":{\"type\":\"field\",\"field\":\"correctness_proportion\",\"transform\":{\"type\":\"object\",\"name\":\"LinearColorMapper\",\"id\":\"p4633\",\"attributes\":{\"palette\":[\"#440154\",\"#440255\",\"#440357\",\"#450558\",\"#45065A\",\"#45085B\",\"#46095C\",\"#460B5E\",\"#460C5F\",\"#460E61\",\"#470F62\",\"#471163\",\"#471265\",\"#471466\",\"#471567\",\"#471669\",\"#47186A\",\"#48196B\",\"#481A6C\",\"#481C6E\",\"#481D6F\",\"#481E70\",\"#482071\",\"#482172\",\"#482273\",\"#482374\",\"#472575\",\"#472676\",\"#472777\",\"#472878\",\"#472A79\",\"#472B7A\",\"#472C7B\",\"#462D7C\",\"#462F7C\",\"#46307D\",\"#46317E\",\"#45327F\",\"#45347F\",\"#453580\",\"#453681\",\"#443781\",\"#443982\",\"#433A83\",\"#433B83\",\"#433C84\",\"#423D84\",\"#423E85\",\"#424085\",\"#414186\",\"#414286\",\"#404387\",\"#404487\",\"#3F4587\",\"#3F4788\",\"#3E4888\",\"#3E4989\",\"#3D4A89\",\"#3D4B89\",\"#3D4C89\",\"#3C4D8A\",\"#3C4E8A\",\"#3B508A\",\"#3B518A\",\"#3A528B\",\"#3A538B\",\"#39548B\",\"#39558B\",\"#38568B\",\"#38578C\",\"#37588C\",\"#37598C\",\"#365A8C\",\"#365B8C\",\"#355C8C\",\"#355D8C\",\"#345E8D\",\"#345F8D\",\"#33608D\",\"#33618D\",\"#32628D\",\"#32638D\",\"#31648D\",\"#31658D\",\"#31668D\",\"#30678D\",\"#30688D\",\"#2F698D\",\"#2F6A8D\",\"#2E6B8E\",\"#2E6C8E\",\"#2E6D8E\",\"#2D6E8E\",\"#2D6F8E\",\"#2C708E\",\"#2C718E\",\"#2C728E\",\"#2B738E\",\"#2B748E\",\"#2A758E\",\"#2A768E\",\"#2A778E\",\"#29788E\",\"#29798E\",\"#287A8E\",\"#287A8E\",\"#287B8E\",\"#277C8E\",\"#277D8E\",\"#277E8E\",\"#267F8E\",\"#26808E\",\"#26818E\",\"#25828E\",\"#25838D\",\"#24848D\",\"#24858D\",\"#24868D\",\"#23878D\",\"#23888D\",\"#23898D\",\"#22898D\",\"#228A8D\",\"#228B8D\",\"#218C8D\",\"#218D8C\",\"#218E8C\",\"#208F8C\",\"#20908C\",\"#20918C\",\"#1F928C\",\"#1F938B\",\"#1F948B\",\"#1F958B\",\"#1F968B\",\"#1E978A\",\"#1E988A\",\"#1E998A\",\"#1E998A\",\"#1E9A89\",\"#1E9B89\",\"#1E9C89\",\"#1E9D88\",\"#1E9E88\",\"#1E9F88\",\"#1EA087\",\"#1FA187\",\"#1FA286\",\"#1FA386\",\"#20A485\",\"#20A585\",\"#21A685\",\"#21A784\",\"#22A784\",\"#23A883\",\"#23A982\",\"#24AA82\",\"#25AB81\",\"#26AC81\",\"#27AD80\",\"#28AE7F\",\"#29AF7F\",\"#2AB07E\",\"#2BB17D\",\"#2CB17D\",\"#2EB27C\",\"#2FB37B\",\"#30B47A\",\"#32B57A\",\"#33B679\",\"#35B778\",\"#36B877\",\"#38B976\",\"#39B976\",\"#3BBA75\",\"#3DBB74\",\"#3EBC73\",\"#40BD72\",\"#42BE71\",\"#44BE70\",\"#45BF6F\",\"#47C06E\",\"#49C16D\",\"#4BC26C\",\"#4DC26B\",\"#4FC369\",\"#51C468\",\"#53C567\",\"#55C666\",\"#57C665\",\"#59C764\",\"#5BC862\",\"#5EC961\",\"#60C960\",\"#62CA5F\",\"#64CB5D\",\"#67CC5C\",\"#69CC5B\",\"#6BCD59\",\"#6DCE58\",\"#70CE56\",\"#72CF55\",\"#74D054\",\"#77D052\",\"#79D151\",\"#7CD24F\",\"#7ED24E\",\"#81D34C\",\"#83D34B\",\"#86D449\",\"#88D547\",\"#8BD546\",\"#8DD644\",\"#90D643\",\"#92D741\",\"#95D73F\",\"#97D83E\",\"#9AD83C\",\"#9DD93A\",\"#9FD938\",\"#A2DA37\",\"#A5DA35\",\"#A7DB33\",\"#AADB32\",\"#ADDC30\",\"#AFDC2E\",\"#B2DD2C\",\"#B5DD2B\",\"#B7DD29\",\"#BADE27\",\"#BDDE26\",\"#BFDF24\",\"#C2DF22\",\"#C5DF21\",\"#C7E01F\",\"#CAE01E\",\"#CDE01D\",\"#CFE11C\",\"#D2E11B\",\"#D4E11A\",\"#D7E219\",\"#DAE218\",\"#DCE218\",\"#DFE318\",\"#E1E318\",\"#E4E318\",\"#E7E419\",\"#E9E419\",\"#ECE41A\",\"#EEE51B\",\"#F1E51C\",\"#F3E51E\",\"#F6E61F\",\"#F8E621\",\"#FAE622\",\"#FDE724\"],\"low\":0.0,\"high\":0.9603960396039604}}}}},\"nonselection_glyph\":{\"type\":\"object\",\"name\":\"Rect\",\"id\":\"p4665\",\"attributes\":{\"x\":{\"type\":\"field\",\"field\":\"course_year\"},\"y\":{\"type\":\"field\",\"field\":\"parent_level_name\"},\"width\":{\"type\":\"value\",\"value\":1},\"height\":{\"type\":\"value\",\"value\":1},\"line_color\":{\"type\":\"value\",\"value\":null},\"line_alpha\":{\"type\":\"value\",\"value\":0.1},\"fill_color\":{\"type\":\"field\",\"field\":\"correctness_proportion\",\"transform\":{\"id\":\"p4633\"}},\"fill_alpha\":{\"type\":\"value\",\"value\":0.1},\"hatch_alpha\":{\"type\":\"value\",\"value\":0.1}}},\"muted_glyph\":{\"type\":\"object\",\"name\":\"Rect\",\"id\":\"p4666\",\"attributes\":{\"x\":{\"type\":\"field\",\"field\":\"course_year\"},\"y\":{\"type\":\"field\",\"field\":\"parent_level_name\"},\"width\":{\"type\":\"value\",\"value\":1},\"height\":{\"type\":\"value\",\"value\":1},\"line_color\":{\"type\":\"value\",\"value\":null},\"line_alpha\":{\"type\":\"value\",\"value\":0.2},\"fill_color\":{\"type\":\"field\",\"field\":\"correctness_proportion\",\"transform\":{\"id\":\"p4633\"}},\"fill_alpha\":{\"type\":\"value\",\"value\":0.2},\"hatch_alpha\":{\"type\":\"value\",\"value\":0.2}}}}}],\"toolbar\":{\"type\":\"object\",\"name\":\"Toolbar\",\"id\":\"p4642\",\"attributes\":{\"tools\":[{\"type\":\"object\",\"name\":\"HoverTool\",\"id\":\"p4657\",\"attributes\":{\"renderers\":\"auto\",\"tooltips\":[[\"Year\",\"@course_year\"],[\"Assignment\",\"@parent_level_name\"],[\"Correctness Proportion\",\"@correctness_proportion\"]]}}]}},\"toolbar_location\":null,\"left\":[{\"type\":\"object\",\"name\":\"CategoricalAxis\",\"id\":\"p4652\",\"attributes\":{\"ticker\":{\"type\":\"object\",\"name\":\"CategoricalTicker\",\"id\":\"p4653\"},\"formatter\":{\"type\":\"object\",\"name\":\"CategoricalTickFormatter\",\"id\":\"p4654\"},\"major_label_policy\":{\"type\":\"object\",\"name\":\"AllLabels\",\"id\":\"p4655\"}}}],\"right\":[{\"type\":\"object\",\"name\":\"ColorBar\",\"id\":\"p4671\",\"attributes\":{\"location\":[0,0],\"ticker\":{\"type\":\"object\",\"name\":\"BasicTicker\",\"id\":\"p4670\",\"attributes\":{\"mantissas\":[1,2,5]}},\"major_label_policy\":{\"type\":\"object\",\"name\":\"NoOverlap\",\"id\":\"p4672\"},\"color_mapper\":{\"id\":\"p4633\"}}}],\"above\":[{\"type\":\"object\",\"name\":\"CategoricalAxis\",\"id\":\"p4647\",\"attributes\":{\"ticker\":{\"type\":\"object\",\"name\":\"CategoricalTicker\",\"id\":\"p4648\"},\"formatter\":{\"type\":\"object\",\"name\":\"CategoricalTickFormatter\",\"id\":\"p4649\"},\"major_label_policy\":{\"type\":\"object\",\"name\":\"AllLabels\",\"id\":\"p4650\"}}}],\"center\":[{\"type\":\"object\",\"name\":\"Grid\",\"id\":\"p4651\",\"attributes\":{\"axis\":{\"id\":\"p4647\"}}},{\"type\":\"object\",\"name\":\"Grid\",\"id\":\"p4656\",\"attributes\":{\"dimension\":1,\"axis\":{\"id\":\"p4652\"}}}]}}]}};\n  const render_items = [{\"docid\":\"87dae177-d483-4f53-9fb2-c8cdb2960fa4\",\"roots\":{\"p4634\":\"f326411b-6921-4608-8e32-b39fe2682ce5\"},\"root_ids\":[\"p4634\"]}];\n  root.Bokeh.embed.embed_items_notebook(docs_json, render_items);\n  }\n  if (root.Bokeh !== undefined) {\n    embed_document(root);\n  } else {\n    let attempts = 0;\n    const timer = setInterval(function(root) {\n      if (root.Bokeh !== undefined) {\n        clearInterval(timer);\n        embed_document(root);\n      } else {\n        attempts++;\n        if (attempts > 100) {\n          clearInterval(timer);\n          console.log(\"Bokeh: ERROR: Unable to run BokehJS code because BokehJS library is missing\");\n        }\n      }\n    }, 10, root)\n  }\n})(window);",
      "application/vnd.bokehjs_exec.v0+json": ""
     },
     "metadata": {
      "application/vnd.bokehjs_exec.v0+json": {
       "id": "p4634"
      }
     },
     "output_type": "display_data"
    }
   ],
   "source": [
    "create_heatmap(filtered_summary)"
   ]
  },
  {
   "cell_type": "code",
   "execution_count": null,
   "metadata": {},
   "outputs": [],
   "source": [
    "import matplotlib.pyplot as plt\n",
    "order = ['Optimal', 'Pass (Not Optimal)', 'Failed', 'Special']\n",
    "\n",
    "# Categorizing the test results based on the provided breakdown\n",
    "def categorize_test_result(result):\n",
    "    if result < 20 and result != -1:\n",
    "        return 'Failed'\n",
    "    elif 20 <= result < 30:\n",
    "        return 'Pass (Not Optimal)'\n",
    "    elif 30 <= result < 1000:\n",
    "        return 'Optimal'\n",
    "    else:\n",
    "        return 'Special'\n",
    "\n",
    "\n",
    "def plot_test_results_updated(data):\n",
    "    data['test_result_category'] = data['best_result'].apply(categorize_test_result)\n",
    "\n",
    "    test_result_counts = data['test_result_category'].value_counts()\n",
    "    test_result_counts = test_result_counts[order]\n",
    "\n",
    "    total_count = test_result_counts.sum()\n",
    "    labels = [f\"{label}\\n{count} entries ({count/total_count:.1%})\" for label, count in zip(test_result_counts.index, test_result_counts)]\n",
    "    \n",
    "    colors = Spectral8[1:len(test_result_counts)+1]\n",
    "    explode = [0, 0, 0, 0.05]\n",
    "\n",
    "    plt.figure(figsize=(8, 5))\n",
    "    wedges, texts = plt.pie(test_result_counts, \n",
    "                            labels=labels, \n",
    "                            startangle=140,\n",
    "                            colors=colors,\n",
    "                            wedgeprops=dict(width=0.25),\n",
    "                            textprops=dict(color=\"black\"),\n",
    "                            explode= explode\n",
    "                            )\n",
    "\n",
    "    plt.setp(texts, size=7)\n",
    "\n",
    "    # Adding a legend\n",
    "    plt.legend(wedges, test_result_counts.index,\n",
    "              title=\"Test Results\",\n",
    "              loc=\"center left\",\n",
    "              bbox_to_anchor=(1, 0, 0.5, 1),fontsize=8)\n",
    "\n",
    "    plt.title('Distribution of Test Results', fontsize=14)\n",
    "    plt.tight_layout()\n",
    "    plt.show()\n"
   ]
  },
  {
   "cell_type": "markdown",
   "metadata": {},
   "source": [
    "From the heatmap, we can observe:\n",
    "\n",
    "**Assessment Consistency**: By examining the horizontal patterns in the heatmap, we can identify most assessments have maintained consistent performance levels over the years.\n",
    "\n",
    "**Areas of Attention**: Lighter cells indicate low correctness proportions, suggesting that students found those assessments or years relatively easier. On the other hand, darker shades might indicate more challenging assessments or years where students struggled, signaling areas that might benefit from revisited teaching strategies or curriculum adjustments."
   ]
  }
 ],
 "metadata": {
  "kernelspec": {
   "display_name": "Python 3",
   "language": "python",
   "name": "python3"
  },
  "language_info": {
   "codemirror_mode": {
    "name": "ipython",
    "version": 3
   },
   "file_extension": ".py",
   "mimetype": "text/x-python",
   "name": "python",
   "nbconvert_exporter": "python",
   "pygments_lexer": "ipython3",
   "version": "3.9.6"
  },
  "orig_nbformat": 4
 },
 "nbformat": 4,
 "nbformat_minor": 2
}
